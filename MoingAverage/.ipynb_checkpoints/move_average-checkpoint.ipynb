{
 "cells": [
  {
   "cell_type": "code",
   "execution_count": 1,
   "metadata": {},
   "outputs": [
    {
     "name": "stderr",
     "output_type": "stream",
     "text": [
      "/usr/lib/python3/dist-packages/h5py/__init__.py:36: FutureWarning: Conversion of the second argument of issubdtype from `float` to `np.floating` is deprecated. In future, it will be treated as `np.float64 == np.dtype(float).type`.\n",
      "  from ._conv import register_converters as _register_converters\n"
     ]
    },
    {
     "name": "stdout",
     "output_type": "stream",
     "text": [
      "WARNING:tensorflow:From /home/luoyuhao/.local/lib/python3.6/site-packages/tensorflow/contrib/learn/python/learn/datasets/base.py:198: retry (from tensorflow.contrib.learn.python.learn.datasets.base) is deprecated and will be removed in a future version.\n",
      "Instructions for updating:\n",
      "Use the retry module or similar alternatives.\n"
     ]
    }
   ],
   "source": [
    "import tensorflow as tf\n",
    "from model import Alexnet"
   ]
  },
  {
   "cell_type": "code",
   "execution_count": 2,
   "metadata": {},
   "outputs": [],
   "source": [
    "inputs = tf.placeholder(shape=[None,224,224,3],dtype=tf.float32,name='input_image')\n",
    "label = tf.placeholder(dtype = tf.int32,name='label')\n",
    "is_training = tf.placeholder(dtype=tf.bool,name='is_training')"
   ]
  },
  {
   "cell_type": "code",
   "execution_count": 3,
   "metadata": {},
   "outputs": [],
   "source": [
    "model = Alexnet(num_classes=2, is_training=is_training)\n",
    "\n",
    "pre_dict = model.predict(inputs)\n",
    "loss = model.loss(pre_dict,label)['loss']\n",
    "\n",
    "global_step = tf.Variable(1.0, dtype=tf.float64, trainable=False,name='global_step')"
   ]
  },
  {
   "cell_type": "code",
   "execution_count": 4,
   "metadata": {},
   "outputs": [],
   "source": [
    "train_op = tf.train.AdamOptimizer(0.001).minimize(loss,global_step=global_step)\n",
    "\n",
    "train_vars = tf.trainable_variables()\n",
    "ema = tf.train.ExponentialMovingAverage(decay=0.995)\n",
    "with tf.control_dependencies([train_op]):\n",
    "    ema_op = ema.apply(train_vars)"
   ]
  },
  {
   "cell_type": "code",
   "execution_count": 26,
   "metadata": {},
   "outputs": [],
   "source": [
    "def precoss(image,label):\n",
    "    image = tf.image.resize_images(image, [224, 224])\n",
    "    return image, label\n",
    "\n",
    "def parser(record):\n",
    "    keys_to_features = {\n",
    "        'image/encoded': tf.FixedLenFeature((),tf.string,default_value=''),\n",
    "        'image/format' : tf.FixedLenFeature((),tf.string,default_value='jpeg'),\n",
    "        'image/class/label': tf.FixedLenFeature([],tf.int64),\n",
    "        'image/height': tf.FixedLenFeature([],tf.int64),\n",
    "        'image/width': tf.FixedLenFeature([],tf.int64)\n",
    "    }\n",
    "    parsed = tf.parse_single_example(record, keys_to_features)\n",
    "\n",
    "    # Perform additional preprocessing on the parsed data.\n",
    "    image = tf.image.decode_jpeg(parsed[\"image/encoded\"])\n",
    "    image = tf.image.resize_images(image, [224,224])\n",
    "    image = tf.reshape(image, [224, 224, 3])\n",
    "    #image = transform_data(image)\n",
    "\n",
    "    label = parsed[\"image/class/label\"]\n",
    "    #height = parsed['image/height']\n",
    "    #width = parsed['image/width']\n",
    "\n",
    "    return image, label \n",
    "\n",
    "datasets = tf.data.TFRecordDataset('./tf_record/train.tfrecord')\n",
    "datasets = datasets.map(parser)\n",
    "datasets = datasets.map(lambda img,label:precoss(img,label))\n",
    "batch_size = 20\n",
    "datasets = datasets.batch(batch_size)\n",
    "#iterator = datasets.make_one_shot_iterator()\n",
    "iterator = datasets.make_initializable_iterator()\n",
    "next_element = iterator.get_next()\n",
    "#datasets = datasets.repeat().shuffle(5000).batch(batch_size)\n",
    "#datasets = datasets.prefetch(batch_size)"
   ]
  },
  {
   "cell_type": "code",
   "execution_count": 27,
   "metadata": {},
   "outputs": [],
   "source": [
    "#with tf.Session() as sess:  \n",
    "sess = tf.Session()\n",
    "sess.run(tf.global_variables_initializer())    \n",
    "#train_x,train_y = sess.run(batch_data)"
   ]
  },
  {
   "cell_type": "code",
   "execution_count": 30,
   "metadata": {},
   "outputs": [],
   "source": [
    "# Compute for 100 epochs.\n",
    "for i in range(10):\n",
    "  #print(i)\n",
    "  sess.run(iterator.initializer)\n",
    "  while True:\n",
    "    try:\n",
    "      sess.run(next_element)\n",
    "    except tf.errors.OutOfRangeError:\n",
    "      break\n"
   ]
  },
  {
   "cell_type": "code",
   "execution_count": 7,
   "metadata": {},
   "outputs": [
    {
     "name": "stdout",
     "output_type": "stream",
     "text": [
      "1.0983334\n"
     ]
    }
   ],
   "source": [
    "#for i in range(1):\n",
    "loss,_ = sess.run([loss,ema_op],feed_dict={inputs:train_x,label:train_y,is_training:True})\n",
    "print(loss)"
   ]
  },
  {
   "cell_type": "code",
   "execution_count": 8,
   "metadata": {},
   "outputs": [],
   "source": [
    "vars = tf.trainable_variables()"
   ]
  },
  {
   "cell_type": "code",
   "execution_count": 12,
   "metadata": {},
   "outputs": [
    {
     "name": "stdout",
     "output_type": "stream",
     "text": [
      "16\n",
      "<tf.Variable 'alexnet_v2/conv1/weights:0' shape=(11, 11, 3, 64) dtype=float32_ref>\n",
      "<tf.Variable 'alexnet_v2/conv1/biases:0' shape=(64,) dtype=float32_ref>\n",
      "<tf.Variable 'alexnet_v2/conv2/weights:0' shape=(5, 5, 64, 192) dtype=float32_ref>\n",
      "<tf.Variable 'alexnet_v2/conv2/biases:0' shape=(192,) dtype=float32_ref>\n",
      "<tf.Variable 'alexnet_v2/conv3/weights:0' shape=(3, 3, 192, 384) dtype=float32_ref>\n",
      "<tf.Variable 'alexnet_v2/conv3/biases:0' shape=(384,) dtype=float32_ref>\n",
      "<tf.Variable 'alexnet_v2/conv4/weights:0' shape=(3, 3, 384, 384) dtype=float32_ref>\n",
      "<tf.Variable 'alexnet_v2/conv4/biases:0' shape=(384,) dtype=float32_ref>\n",
      "<tf.Variable 'alexnet_v2/conv5/weights:0' shape=(3, 3, 384, 256) dtype=float32_ref>\n",
      "<tf.Variable 'alexnet_v2/conv5/biases:0' shape=(256,) dtype=float32_ref>\n",
      "<tf.Variable 'alexnet_v2/fc6/weights:0' shape=(5, 5, 256, 4096) dtype=float32_ref>\n",
      "<tf.Variable 'alexnet_v2/fc6/biases:0' shape=(4096,) dtype=float32_ref>\n",
      "<tf.Variable 'alexnet_v2/fc7/weights:0' shape=(1, 1, 4096, 4096) dtype=float32_ref>\n",
      "<tf.Variable 'alexnet_v2/fc7/biases:0' shape=(4096,) dtype=float32_ref>\n",
      "<tf.Variable 'Predict/weights:0' shape=(4096, 2) dtype=float32_ref>\n",
      "<tf.Variable 'Predict/biases:0' shape=(2,) dtype=float32_ref>\n"
     ]
    }
   ],
   "source": [
    "print(len(vars))\n",
    "for i, var in enumerate(vars):\n",
    "    print(var)\n",
    "    #print(var.op.name)"
   ]
  },
  {
   "cell_type": "code",
   "execution_count": 13,
   "metadata": {},
   "outputs": [],
   "source": [
    "# ema_obj = tf.train.ExponentialMovingAverage(0.995)\n",
    "# restore_var = ema_obj.variables_to_restore()\n",
    "# saver = tf.train.Saver(restore_var)\n",
    "# saver.restore(sess,checkpoint)"
   ]
  },
  {
   "cell_type": "code",
   "execution_count": 15,
   "metadata": {},
   "outputs": [],
   "source": [
    "# for i, var in enumerate(restore_var):\n",
    "#     print(var)"
   ]
  },
  {
   "cell_type": "code",
   "execution_count": 16,
   "metadata": {},
   "outputs": [],
   "source": [
    "sess.close()"
   ]
  },
  {
   "cell_type": "code",
   "execution_count": null,
   "metadata": {},
   "outputs": [],
   "source": [
    "# for var in tf.trainable_variables():\n",
    "#     var_name  = var.op.name\n",
    "#     var_name_mess = str(var_name).split('/')\n",
    "#     if var_name_mess[0] in ['']:\n",
    "#         first_stage_train_var.append(var)\n",
    "# first_stage_optimizer = tf.train.AdamOptimizer(0.0001).minimize(loss,var_list=first_stage_train_var)\n",
    "# with tf.control_dependencies[tf.get_collection(tf.GraphKeys.UPDATE_OPS)]:\n",
    "#     ###\n"
   ]
  }
 ],
 "metadata": {
  "kernelspec": {
   "display_name": "Python 3",
   "language": "python",
   "name": "python3"
  },
  "language_info": {
   "codemirror_mode": {
    "name": "ipython",
    "version": 3
   },
   "file_extension": ".py",
   "mimetype": "text/x-python",
   "name": "python",
   "nbconvert_exporter": "python",
   "pygments_lexer": "ipython3",
   "version": "3.6.7"
  }
 },
 "nbformat": 4,
 "nbformat_minor": 2
}
