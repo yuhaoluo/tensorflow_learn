{
 "cells": [
  {
   "cell_type": "code",
   "execution_count": 1,
   "metadata": {},
   "outputs": [],
   "source": [
    "from __future__ import absolute_import, division, print_function\n",
    "\n",
    "# Import TensorFlow v2.\n",
    "import tensorflow as tf\n",
    "from tensorflow.keras import Model, layers\n",
    "import numpy as np"
   ]
  },
  {
   "cell_type": "code",
   "execution_count": 3,
   "metadata": {},
   "outputs": [],
   "source": [
    "# MNIST dataset parameters.\n",
    "num_classes = 10 # total classes (0-9 digits).\n",
    "num_features = 784 # data features (img shape: 28*28).\n",
    "\n",
    "# Training Parameters\n",
    "learning_rate = 0.001\n",
    "training_steps = 1000\n",
    "batch_size = 32\n",
    "display_step = 100\n",
    "\n",
    "# Network Parameters\n",
    "# MNIST image shape is 28*28px, we will then handle 28 sequences of 28 timesteps for every sample.\n",
    "num_input = 28 # number of sequences.\n",
    "timesteps = 28 # timesteps.\n",
    "num_units = 32 # number of neurons for the LSTM layer."
   ]
  },
  {
   "cell_type": "code",
   "execution_count": 4,
   "metadata": {},
   "outputs": [],
   "source": [
    "# Prepare MNIST data.\n",
    "from tensorflow.keras.datasets import mnist\n",
    "(x_train, y_train), (x_test, y_test) = mnist.load_data()\n",
    "# Convert to float32.\n",
    "x_train, x_test = np.array(x_train, np.float32), np.array(x_test, np.float32)\n",
    "# Flatten images to 1-D vector of 784 features (28*28).\n",
    "x_train, x_test = x_train.reshape([-1, 28, 28]), x_test.reshape([-1, num_features])\n",
    "# Normalize images value from [0, 255] to [0, 1].\n",
    "x_train, x_test = x_train / 255., x_test / 255."
   ]
  },
  {
   "cell_type": "code",
   "execution_count": null,
   "metadata": {},
   "outputs": [],
   "source": []
  },
  {
   "cell_type": "code",
   "execution_count": 12,
   "metadata": {},
   "outputs": [],
   "source": [
    "# class MyRNN(Model):\n",
    "#     def __init__(self,hidden_size,output_nums):\n",
    "#         super(MyRNN,self).__init__()\n",
    "#         self.hidden_state = layers.RNN(layers.SimpleRNNCell(units=hidden_size)) \n",
    "#         self.out = layers.Dense(output_nums)\n",
    "    \n",
    "#     def call(self,x,is_training=False):\n",
    "#         h = self.hidden_state(x)\n",
    "#         out = self.out(h)\n",
    "#         if not is_training:\n",
    "#             out = tf.nn.softmax(out)  \n",
    "#         return out\n",
    "# rnn_net = MyRNN(num_units,num_classes)"
   ]
  },
  {
   "cell_type": "code",
   "execution_count": 35,
   "metadata": {},
   "outputs": [],
   "source": [
    "# Create LSTM Model.\n",
    "class LSTM(Model):\n",
    "    # Set layers.\n",
    "    def __init__(self):\n",
    "        super(LSTM, self).__init__()\n",
    "        # RNN (LSTM) hidden layer.\n",
    "        self.lstm_layer = layers.LSTM(units=num_units)\n",
    "        self.out = layers.Dense(num_classes)\n",
    "\n",
    "    # Set forward pass.\n",
    "    def call(self, x, is_training=False):\n",
    "        # LSTM layer.\n",
    "        x = self.lstm_layer(x)\n",
    "        # Output layer (num_classes).\n",
    "        x = self.out(x)\n",
    "        if not is_training:\n",
    "            # tf cross entropy expect logits without softmax, so only\n",
    "            # apply softmax when not training.\n",
    "            x = tf.nn.softmax(x)\n",
    "        return x\n",
    "\n",
    "# Build LSTM model.\n",
    "rnn_net = LSTM()"
   ]
  },
  {
   "cell_type": "code",
   "execution_count": 33,
   "metadata": {},
   "outputs": [],
   "source": [
    "def cross_loss(x,y):\n",
    "    y = tf.cast(y,tf.int64)\n",
    "    loss = tf.nn.sparse_softmax_cross_entropy_with_logits(logits=x,labels=y)\n",
    "    return tf.reduce_mean(loss)\n",
    "def accuracy(y_pred,y):\n",
    "    pre_cls = tf.equal(tf.argmax(y_pred,axis=1), tf.cast(y,tf.int64))\n",
    "    acc = tf.reduce_mean(tf.cast(pre_cls,tf.float32),axis=-1)\n",
    "    return acc\n",
    "\n",
    "optimizer = tf.optimizers.Adam(learning_rate)\n",
    "def train_step(x,y):\n",
    "    with tf.GradientTape() as gt:\n",
    "        pred = rnn_net(x,is_training=True)\n",
    "        loss = cross_loss(pred,y)\n",
    "    train_vars = rnn_net.trainable_variables\n",
    "    grad = gt.gradient(loss,train_vars)\n",
    "    optimizer.apply_gradients(zip(grad,train_vars))\n",
    "    "
   ]
  },
  {
   "cell_type": "code",
   "execution_count": 30,
   "metadata": {},
   "outputs": [],
   "source": [
    "## \n",
    "train_data = tf.data.Dataset.from_tensor_slices((x_train,y_train))\n",
    "train_data = train_data.repeat().shuffle(5000).batch(batch_size)\n",
    "\n"
   ]
  },
  {
   "cell_type": "code",
   "execution_count": 36,
   "metadata": {},
   "outputs": [
    {
     "name": "stdout",
     "output_type": "stream",
     "text": [
      "step: 100, loss: 1.042739, accuracy: 0.687500\n",
      "step: 200, loss: 0.577597, accuracy: 0.843750\n",
      "step: 300, loss: 0.454180, accuracy: 0.843750\n",
      "step: 400, loss: 0.644746, accuracy: 0.750000\n",
      "step: 500, loss: 0.363440, accuracy: 0.875000\n",
      "step: 600, loss: 0.320509, accuracy: 0.968750\n",
      "step: 700, loss: 0.170768, accuracy: 0.968750\n",
      "step: 800, loss: 0.319935, accuracy: 0.937500\n",
      "step: 900, loss: 0.246423, accuracy: 0.937500\n",
      "step: 1000, loss: 0.285533, accuracy: 0.843750\n"
     ]
    }
   ],
   "source": [
    "## RUN Training\n",
    "for step , (batch_x,batch_y) in enumerate(train_data.take(training_steps),1):\n",
    "    #print(batch_x.shape)\n",
    "    train_step(batch_x,batch_y) \n",
    "    if step % display_step == 0:\n",
    "        pred = rnn_net(batch_x,is_training=True)\n",
    "        loss = cross_loss(pred,batch_y)\n",
    "        acc = accuracy(pred,batch_y)\n",
    "        print(\"step: %i, loss: %f, accuracy: %f\" % (step, loss, acc))"
   ]
  },
  {
   "cell_type": "code",
   "execution_count": null,
   "metadata": {},
   "outputs": [],
   "source": []
  }
 ],
 "metadata": {
  "kernelspec": {
   "display_name": "Python 3",
   "language": "python",
   "name": "python3"
  },
  "language_info": {
   "codemirror_mode": {
    "name": "ipython",
    "version": 3
   },
   "file_extension": ".py",
   "mimetype": "text/x-python",
   "name": "python",
   "nbconvert_exporter": "python",
   "pygments_lexer": "ipython3",
   "version": "3.6.8"
  }
 },
 "nbformat": 4,
 "nbformat_minor": 2
}
