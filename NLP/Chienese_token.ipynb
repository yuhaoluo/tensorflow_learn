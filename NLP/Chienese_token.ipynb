{
  "nbformat": 4,
  "nbformat_minor": 0,
  "metadata": {
    "colab": {
      "name": "Untitled2.ipynb",
      "provenance": []
    },
    "kernelspec": {
      "name": "python3",
      "display_name": "Python 3"
    }
  },
  "cells": [
    {
      "cell_type": "code",
      "metadata": {
        "id": "VkUtZql4cphh",
        "colab_type": "code",
        "colab": {
          "base_uri": "https://localhost:8080/",
          "height": 35
        },
        "outputId": "1edda6c8-535b-4f5f-89eb-f9d9a7a06726"
      },
      "source": [
        "from __future__ import absolute_import, division, print_function, unicode_literals\n",
        "\n",
        "try:\n",
        "  # %tensorflow_version 仅存在于 Colab\n",
        "  %tensorflow_version 2.x\n",
        "except Exception:\n",
        "  pass\n",
        "import tensorflow as tf\n",
        "\n",
        "import matplotlib.pyplot as plt\n",
        "import matplotlib.ticker as ticker\n",
        "from sklearn.model_selection import train_test_split\n",
        "\n",
        "import unicodedata\n",
        "import re\n",
        "import numpy as np\n",
        "import os\n",
        "import io\n",
        "import time"
      ],
      "execution_count": 1,
      "outputs": [
        {
          "output_type": "stream",
          "text": [
            "TensorFlow 2.x selected.\n"
          ],
          "name": "stdout"
        }
      ]
    },
    {
      "cell_type": "code",
      "metadata": {
        "id": "ra-sT2KtgNxa",
        "colab_type": "code",
        "colab": {}
      },
      "source": [
        "## 中文分词 北大\n",
        "##  https://github.com/lancopku/PKUSeg-python\n",
        "## 安装 pip3 install pkuseg\n",
        "## usage:\n",
        "##     import pkuseg\n",
        "##     lexicon = ['经', '少安', '贺凤英', 'F-35战斗机', '埃达尔·阿勒坎'] # 自定义词典\n",
        "##     seg = pkuseg.pkuseg(user_dict=lexicon)\n",
        "##     words = seg.cut(sent)"
      ],
      "execution_count": 0,
      "outputs": []
    },
    {
      "cell_type": "markdown",
      "metadata": {
        "id": "WtgMAXbAgOEk",
        "colab_type": "text"
      },
      "source": [
        ""
      ]
    },
    {
      "cell_type": "code",
      "metadata": {
        "id": "qjtFWuWdc32m",
        "colab_type": "code",
        "colab": {}
      },
      "source": [
        "def tokenize(lang):\n",
        "  lang_tokenizer = tf.keras.preprocessing.text.Tokenizer(\n",
        "      filters='')\n",
        "  lang_tokenizer.fit_on_texts(lang)\n",
        "\n",
        "  tensor = lang_tokenizer.texts_to_sequences(lang)\n",
        "\n",
        "  tensor = tf.keras.preprocessing.sequence.pad_sequences(tensor,\n",
        "                                                         padding='post')\n",
        "\n",
        "  return tensor, lang_tokenizer"
      ],
      "execution_count": 0,
      "outputs": []
    },
    {
      "cell_type": "code",
      "metadata": {
        "id": "MKEVL-E6c9Vx",
        "colab_type": "code",
        "colab": {}
      },
      "source": [
        "test_list = []\n",
        "s1 = ['尽管', '玉亭', '成家', '以后', '，', '他', '老婆', '贺凤英', '那些', '年', '把', '少安', '妈', '欺负', '上', '一', '回', '又', '一', '回', '，', '怕', '老婆', '的', '玉亭', '连', \n",
        "             '一', '声', '也', '不', '敢', '吭', '，', '但', '少安', '他妈', '不', '计较', '他', '。']\n",
        "s2 =  ['??','小船', '4月', '8日', '经', '长江', '前往', '小鸟', '岛', '。']\n",
        "test_list.append(s1)\n",
        "test_list.append(s2)\n",
        "pad_input, lang_tokenizer = tokenize(test_list)"
      ],
      "execution_count": 0,
      "outputs": []
    },
    {
      "cell_type": "code",
      "metadata": {
        "id": "2NNH70Z3c-v1",
        "colab_type": "code",
        "colab": {
          "base_uri": "https://localhost:8080/",
          "height": 191
        },
        "outputId": "0fb6461c-6d54-4fff-9173-9986650b970f"
      },
      "source": [
        "j = 0\n",
        "for word in s2:\n",
        "  if j<10:\n",
        "    idx = lang_tokenizer.word_index[word]\n",
        "    j += 1\n",
        "    print('{} ----> {}'.format(word,idx))\n"
      ],
      "execution_count": 22,
      "outputs": [
        {
          "output_type": "stream",
          "text": [
            "?? ----> 31\n",
            "小船 ----> 32\n",
            "4月 ----> 33\n",
            "8日 ----> 34\n",
            "经 ----> 35\n",
            "长江 ----> 36\n",
            "前往 ----> 37\n",
            "小鸟 ----> 38\n",
            "岛 ----> 39\n",
            "。 ----> 9\n"
          ],
          "name": "stdout"
        }
      ]
    },
    {
      "cell_type": "code",
      "metadata": {
        "id": "GTBUK-nZdB9q",
        "colab_type": "code",
        "colab": {}
      },
      "source": [
        ""
      ],
      "execution_count": 0,
      "outputs": []
    }
  ]
}