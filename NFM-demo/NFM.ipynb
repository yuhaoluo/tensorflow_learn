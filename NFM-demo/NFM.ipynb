{
 "cells": [
  {
   "cell_type": "code",
   "execution_count": 1,
   "metadata": {},
   "outputs": [],
   "source": [
    "import tensorflow as tf\n",
    "from tensorflow import keras\n",
    "from tensorflow.keras import layers"
   ]
  },
  {
   "cell_type": "code",
   "execution_count": 13,
   "metadata": {},
   "outputs": [
    {
     "data": {
      "text/plain": [
       "'2.0.0'"
      ]
     },
     "execution_count": 13,
     "metadata": {},
     "output_type": "execute_result"
    }
   ],
   "source": [
    "tf.__version__"
   ]
  },
  {
   "cell_type": "code",
   "execution_count": 98,
   "metadata": {},
   "outputs": [],
   "source": [
    "class NFM(keras.Model):\n",
    "    def __init__(self,feature_size,field_size,embedding_size):\n",
    "        super(NFM,self).__init__()\n",
    "        #self.deep_layers = [32,32]\n",
    "        self.feature_size = feature_size\n",
    "        self.embedding_size = embedding_size\n",
    "        self.field_size = field_size\n",
    "        self.bias = tf.Variable(tf.constant([0.1]),name='bias')\n",
    "        #self.bias = tf.constant([0.1])\n",
    "        ## \n",
    "        self.feature_embeddings = tf.Variable(\n",
    "            tf.random.normal([self.feature_size,self.embedding_size],0.0,0.01),\n",
    "            name='feature_embeddings')\n",
    "        self.weight_first = tf.Variable(tf.random.normal([self.feature_size,1],0.0,1.0),name='feature_bias')\n",
    "        \n",
    "        #inputs_index = keras.Input((None,))\n",
    "        #inputs_value = kears.Input((None,))\n",
    "        \n",
    "        ##\n",
    "        self.dense_1 = layers.Dense(32,activation='relu')\n",
    "        self.dense_2 = layers.Dense(32,activation='relu')\n",
    "        self.dense_out = layers.Dense(1)\n",
    "        \n",
    "    def call(self,inputs_index,inputs_value):\n",
    "        ## calc embedding\n",
    "        self.embedding = tf.nn.embedding_lookup(self.feature_embeddings,inputs_index)\n",
    "        inputs_value = tf.reshape(inputs_value,[self.field_size,-1])\n",
    "        self.embedding = tf.multiply(self.embedding,inputs_value)\n",
    "        \n",
    "        ## first order term\n",
    "        first_order = tf.nn.embedding_lookup(self.weight_first,inputs_index)\n",
    "        #inputs_value = tf.reshape(inputs_value,[,-1])\n",
    "        first_order = tf.reduce_sum(tf.multiply(first_order,inputs_value))\n",
    "        \n",
    "        ## second order term \n",
    "        sum_feature_emb = tf.reduce_sum(self.embedding,axis=0)\n",
    "        sum_feature_emb_squre = tf.square(sum_feature_emb)\n",
    "        \n",
    "        square_feature_emb = tf.square(self.embedding)\n",
    "        square_feature_emb_sum = tf.reduce_sum(square_feature_emb,axis=0)\n",
    "        \n",
    "        second_order = 0.5 * tf.subtract(sum_feature_emb_squre,square_feature_emb_sum)\n",
    "        print('second_order',second_order)\n",
    "        print(second_order.ndim)\n",
    "        #second_order = layers.Flatten(second_order)\n",
    "        #print('second_order',second_order)\n",
    "        second_order = tf.reshape(second_order,[-1,self.embedding_size])\n",
    "        print('second_order',second_order)\n",
    "        out_dense = self.dense_1(second_order)\n",
    "        out_dense = self.dense_2(out_dense)\n",
    "        out_dense = self.dense_out(out_dense)\n",
    "        \n",
    "        \n",
    "        print('self.bias',self.bias)\n",
    "        print('first',first_order)\n",
    "        print('out_dense',out_dense)\n",
    "        output = tf.add(self.bias,first_order,out_dense) \n",
    "        print(output)\n",
    "        return output\n",
    "    "
   ]
  },
  {
   "cell_type": "code",
   "execution_count": 99,
   "metadata": {},
   "outputs": [],
   "source": [
    "import numpy as np\n",
    "inputs_index = np.array([0,1,2,3],dtype=np.int32)\n",
    "inputs_value = np.array([0.1,0.3,1.0,1.0],dtype=np.float32)"
   ]
  },
  {
   "cell_type": "code",
   "execution_count": 100,
   "metadata": {},
   "outputs": [],
   "source": [
    "feature_size = 10\n",
    "field_size = 4 \n",
    "embedding_size = 3\n",
    "model = NFM(feature_size,field_size,embedding_size)"
   ]
  },
  {
   "cell_type": "code",
   "execution_count": 101,
   "metadata": {},
   "outputs": [
    {
     "name": "stdout",
     "output_type": "stream",
     "text": [
      "second_order tf.Tensor([ 6.1331448e-06 -2.5325287e-05  6.0214297e-05], shape=(3,), dtype=float32)\n",
      "1\n",
      "second_order tf.Tensor([[ 6.1331448e-06 -2.5325287e-05  6.0214297e-05]], shape=(1, 3), dtype=float32)\n",
      "self.bias <tf.Variable 'bias:0' shape=(1,) dtype=float32, numpy=array([0.1], dtype=float32)>\n",
      "first tf.Tensor(1.2110045, shape=(), dtype=float32)\n",
      "out_dense tf.Tensor([[1.3354213e-06]], shape=(1, 1), dtype=float32)\n",
      "tf.Tensor([1.3110045], shape=(1,), dtype=float32)\n"
     ]
    }
   ],
   "source": [
    "res = model(inputs_index,inputs_value)"
   ]
  },
  {
   "cell_type": "code",
   "execution_count": 50,
   "metadata": {},
   "outputs": [],
   "source": [
    "inputs = keras.Input(shape=(32,))"
   ]
  },
  {
   "cell_type": "code",
   "execution_count": 52,
   "metadata": {},
   "outputs": [
    {
     "data": {
      "text/plain": [
       "TensorShape([None, 32])"
      ]
     },
     "execution_count": 52,
     "metadata": {},
     "output_type": "execute_result"
    }
   ],
   "source": [
    "inputs.shape"
   ]
  },
  {
   "cell_type": "code",
   "execution_count": null,
   "metadata": {},
   "outputs": [],
   "source": []
  }
 ],
 "metadata": {
  "kernelspec": {
   "display_name": "Python 3",
   "language": "python",
   "name": "python3"
  },
  "language_info": {
   "codemirror_mode": {
    "name": "ipython",
    "version": 3
   },
   "file_extension": ".py",
   "mimetype": "text/x-python",
   "name": "python",
   "nbconvert_exporter": "python",
   "pygments_lexer": "ipython3",
   "version": "3.6.8"
  }
 },
 "nbformat": 4,
 "nbformat_minor": 2
}
